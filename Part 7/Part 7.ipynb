{
 "cells": [
  {
   "metadata": {},
   "cell_type": "markdown",
   "source": "# Loss Function",
   "id": "ad7ab10c738abe52"
  },
  {
   "metadata": {},
   "cell_type": "markdown",
   "source": [
    "## Categorical Cross-Entropy\n",
    "\n",
    "<br>\n",
    "\n",
    "$L_i = - \\sum{y_{i,j}log(\\hat{y}_{i,j})}$\n",
    "\n",
    "<br>\n",
    "\n",
    "|    Symbol    | Definition         |\n",
    "|:------------:| ------------------ |\n",
    "|    $L_i$     | sample loss value  |\n",
    "|     $i$      | i-th sample in a set |\n",
    "|     $j$      | label/output index |\n",
    "|     $y$      | target values |\n",
    "|  $\\hat{y}$   | predicted values |\n",
    "\n",
    "\n",
    "-------------------------------\n",
    "\n",
    "Then because of One hot encoding, it can then be simplified to:\n",
    "\n",
    "$L_i = -log(\\hat{y}_{i,k})$\n",
    "\n",
    "<br>\n",
    "\n",
    "|  Symbol   | Definition                                             |\n",
    "|:---------:|--------------------------------------------------------|\n",
    "|   $L_i$   | sample loss value                                      |\n",
    "|    $i$    | i-th sample in a set                                   |\n",
    "|    $k$    | target label index, index of correct class probability |\n",
    "| $\\hat{y}$ | predicted values                                       |"
   ],
   "id": "928b274bdf1abe03"
  },
  {
   "metadata": {
    "ExecuteTime": {
     "end_time": "2024-10-26T12:18:48.417949Z",
     "start_time": "2024-10-26T12:18:48.413054Z"
    }
   },
   "cell_type": "code",
   "source": [
    "import math\n",
    "\n",
    "# An example output from the output layer of the neural network\n",
    "softmax_output = [0.7, 0.1, 0.2]\n",
    "\n",
    "# Ground truth\n",
    "target_output = [1, 0, 0]\n",
    "\n",
    "loss = -(math.log(softmax_output[0]) * target_output[0] +\n",
    "         math.log(softmax_output[1]) * target_output[1] +\n",
    "         math.log(softmax_output[2]) * target_output[2])\n",
    "\n",
    "print(loss)\n",
    "\n",
    "# Simplified \n",
    "loss = -math.log(softmax_output[0])\n",
    "print(loss)\n",
    "\n",
    "\n",
    "# --------------------\n",
    "# ------ Further proof\n",
    "# --------------------\n",
    "\n",
    "# Where the output (or \"confidence\") is higher, the loss is lower\n",
    "print(-math.log(0.7))\n",
    "\n",
    "# Vice-Versa: Output is lower, the loss is higher\n",
    "print(-math.log(0.5))\n"
   ],
   "id": "e7f6d45012326697",
   "outputs": [
    {
     "name": "stdout",
     "output_type": "stream",
     "text": [
      "0.35667494393873245\n",
      "0.35667494393873245\n",
      "0.35667494393873245\n",
      "0.6931471805599453\n"
     ]
    }
   ],
   "execution_count": 3
  },
  {
   "metadata": {},
   "cell_type": "code",
   "outputs": [],
   "execution_count": null,
   "source": "",
   "id": "d6cfcedec6a58c2a"
  }
 ],
 "metadata": {
  "kernelspec": {
   "display_name": "Python 3",
   "language": "python",
   "name": "python3"
  },
  "language_info": {
   "codemirror_mode": {
    "name": "ipython",
    "version": 2
   },
   "file_extension": ".py",
   "mimetype": "text/x-python",
   "name": "python",
   "nbconvert_exporter": "python",
   "pygments_lexer": "ipython2",
   "version": "2.7.6"
  }
 },
 "nbformat": 4,
 "nbformat_minor": 5
}
