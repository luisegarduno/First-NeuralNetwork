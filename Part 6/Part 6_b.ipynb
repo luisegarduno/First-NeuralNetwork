{
 "cells": [
  {
   "cell_type": "code",
   "id": "initial_id",
   "metadata": {
    "collapsed": true,
    "ExecuteTime": {
     "end_time": "2024-10-12T09:15:14.827474Z",
     "start_time": "2024-10-12T09:15:14.821817Z"
    }
   },
   "source": [
    "import numpy as np\n",
    "import nnfs\n",
    "\n",
    "nnfs.init()\n",
    "\n",
    "layer_outputs = [ [ 4.8,   1.21, 2.385],\n",
    "                  [ 8.9,  -1.81,   0.2],\n",
    "                  [1.41,  1.051, 0.026]]\n",
    "\n",
    "# Exponentiate - This step works perfectly\n",
    "exp_values = np.exp(layer_outputs)\n",
    "print(\"Exponentiated values --> Shape\", exp_values.shape)\n",
    "print(exp_values)\n",
    "\n",
    "# Normalize - Start with original formula\n",
    "# --> norm_values = exp_values / np.sum(exp_values)\n",
    "\n",
    "# First get sum of each row\n",
    "# Sum of columns (WRONG)--> np.sum(layer_outputs, axis=0)\n",
    "# Sum of rows (CORRECT) --> np.sum(layer_outputs, axis=1)\n",
    "\n",
    "norm_sum = np.sum(layer_outputs, axis=1)\n",
    "print(\"\\n(INVALID) Sum --> Shape\", norm_sum.shape)\n",
    "# WRONG print(norm_sum)\n",
    "# WRONG print(norm_sum.T)\n",
    "\n",
    "norm_sum = np.sum(layer_outputs, axis=1, keepdims=True)\n",
    "print(\"(Correct) Sum --> Shape\", norm_sum.shape)\n",
    "\n",
    "print(\"\\nNormalized Shape: (3, 1)\")\n",
    "norm_values = exp_values / np.sum(exp_values, axis=1, keepdims=True)\n",
    "print(norm_values)"
   ],
   "outputs": [
    {
     "name": "stdout",
     "output_type": "stream",
     "text": [
      "Exponentiated values --> Shape (3, 3)\n",
      "[[1.21510418e+02 3.35348465e+00 1.08590627e+01]\n",
      " [7.33197354e+03 1.63654137e-01 1.22140276e+00]\n",
      " [4.09595540e+00 2.86051020e+00 1.02634095e+00]]\n",
      "\n",
      "(INVALID) Sum --> Shape (3,)\n",
      "(Correct) Sum --> Shape (3, 1)\n",
      "\n",
      "Normalized Shape: (3, 1)\n",
      "[[8.95282664e-01 2.47083068e-02 8.00090293e-02]\n",
      " [9.99811129e-01 2.23163963e-05 1.66554348e-04]\n",
      " [5.13097164e-01 3.58333899e-01 1.28568936e-01]]\n"
     ]
    }
   ],
   "execution_count": 20
  },
  {
   "metadata": {},
   "cell_type": "code",
   "outputs": [],
   "execution_count": null,
   "source": "",
   "id": "716eda6b06b381d7"
  }
 ],
 "metadata": {
  "kernelspec": {
   "display_name": "Python 3",
   "language": "python",
   "name": "python3"
  },
  "language_info": {
   "codemirror_mode": {
    "name": "ipython",
    "version": 2
   },
   "file_extension": ".py",
   "mimetype": "text/x-python",
   "name": "python",
   "nbconvert_exporter": "python",
   "pygments_lexer": "ipython2",
   "version": "2.7.6"
  }
 },
 "nbformat": 4,
 "nbformat_minor": 5
}
