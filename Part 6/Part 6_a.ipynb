{
 "cells": [
  {
   "metadata": {},
   "cell_type": "markdown",
   "source": [
    "### Softmax Activation\n",
    "\n",
    "$ S_{i,j} = \\frac{e^{z_{i,j}}}{\\sum_{l=1}^L e^{z_{i,l}}}$"
   ],
   "id": "1156f6d04492081"
  },
  {
   "cell_type": "code",
   "id": "initial_id",
   "metadata": {
    "collapsed": true,
    "ExecuteTime": {
     "end_time": "2024-10-12T08:15:06.782722Z",
     "start_time": "2024-10-12T08:15:06.778264Z"
    }
   },
   "source": [
    "import math\n",
    "\n",
    "layer_outputs = [4.8, 1.21, 2.385]\n",
    "\n",
    "# Euler's number = E = 2.7182818\n",
    "E = math.e\n",
    "\n",
    "exp_values = []\n",
    "\n",
    "for output in layer_outputs:\n",
    "    # E^output\n",
    "    exp_values.append(E**output)\n",
    "    \n",
    "print(exp_values)"
   ],
   "outputs": [
    {
     "name": "stdout",
     "output_type": "stream",
     "text": [
      "[121.51041751873483, 3.353484652549023, 10.859062664920513]\n"
     ]
    }
   ],
   "execution_count": 2
  },
  {
   "metadata": {},
   "cell_type": "markdown",
   "source": [
    "### Normalize the values\n",
    "\n",
    "Normalization:\n",
    "\n",
    "$ y = \\frac{u}{\\sum_{x_{i}}^n u_{i}}$\n",
    "$ = u \\\\$\n",
    "$ /$\n",
    "$ {\\sum_{x_{i}}^n u_{i}}$\n",
    "\n",
    "<br>\n",
    "\n",
    "\n",
    "\n",
    "\n",
    "$u = [{u_1} \\\\ $\n",
    "${u_2}] $\n",
    "* $u_{1} = 1$\n",
    "* $u_{2} = 2$\n",
    "\n",
    "<br>\n",
    "\n",
    "$y = [\\frac{u_1}{u_{1}+u_{2}} \\\\$\n",
    "$ \\frac{u_2}{u_{1}+u_{2}}]$\n",
    "\n",
    "$ y = [\\frac{1}{1+2} \\\\$\n",
    "$ \\frac{2}{1+2}]$\n",
    "\n",
    "$ y = [\\frac{1}{3} \\\\$\n",
    "$ \\frac{2}{3}]$\n",
    "\n",
    "$ y = [0.33 \\\\$\n",
    "$ 0.67]$"
   ],
   "id": "24711f25fd03b4d6"
  },
  {
   "metadata": {
    "ExecuteTime": {
     "end_time": "2024-10-12T08:22:32.052453Z",
     "start_time": "2024-10-12T08:22:32.048544Z"
    }
   },
   "cell_type": "code",
   "source": [
    "norm_base = sum(exp_values)\n",
    "norm_values = []\n",
    "\n",
    "for value in exp_values:\n",
    "    norm_values.append(value / norm_base)\n",
    "\n",
    "print(\"Normalized exponential values: \",norm_values)\n",
    "\n",
    "# Display that it sums up to 1\n",
    "print(\"Sum: \", sum(norm_values))"
   ],
   "id": "3178aaff11831c0e",
   "outputs": [
    {
     "name": "stdout",
     "output_type": "stream",
     "text": [
      "[0.8952826639572619, 0.024708306782099374, 0.0800090292606387]\n",
      "Sum:  0.9999999999999999\n"
     ]
    }
   ],
   "execution_count": 4
  },
  {
   "metadata": {},
   "cell_type": "markdown",
   "source": "### Numpy Implementation",
   "id": "5c4086d4c9c3f223"
  },
  {
   "metadata": {
    "ExecuteTime": {
     "end_time": "2024-10-12T08:27:01.777228Z",
     "start_time": "2024-10-12T08:27:01.773802Z"
    }
   },
   "cell_type": "code",
   "source": [
    "import numpy as np\n",
    "\n",
    "# Step 1: Input (aka the output values)\n",
    "layer_outputs = [4.8, 1.21, 2.385]\n",
    "\n",
    "# Step 2: Exponentiate (Part 1 of Softmax)\n",
    "exp_values = np.exp(layer_outputs)\n",
    "print(\"Exponential:\", exp_values)\n",
    "\n",
    "# Step 3: Normalize (Part 2 of Softmax)\n",
    "norm_values = exp_values / np.sum(exp_values)\n",
    "\n",
    "# Step 4: Output\n",
    "print(\"\\nNormalized exponential values:\\n-->\", norm_values)\n",
    "print(\"\\nSum of normalized values:\\n-->\", sum(norm_values))\n"
   ],
   "id": "ee1294b9bff498f9",
   "outputs": [
    {
     "name": "stdout",
     "output_type": "stream",
     "text": [
      "Exponential: [121.51041752   3.35348465  10.85906266]\n",
      "\n",
      "Normalized exponential values:\n",
      "--> [0.89528266 0.02470831 0.08000903]\n",
      "\n",
      "Sum of normalized values:\n",
      "--> 0.9999999999999999\n"
     ]
    }
   ],
   "execution_count": 8
  },
  {
   "metadata": {},
   "cell_type": "code",
   "outputs": [],
   "execution_count": null,
   "source": "",
   "id": "f0793f7e80a85b52"
  }
 ],
 "metadata": {
  "kernelspec": {
   "display_name": "Python 3",
   "language": "python",
   "name": "python3"
  },
  "language_info": {
   "codemirror_mode": {
    "name": "ipython",
    "version": 2
   },
   "file_extension": ".py",
   "mimetype": "text/x-python",
   "name": "python",
   "nbconvert_exporter": "python",
   "pygments_lexer": "ipython2",
   "version": "2.7.6"
  }
 },
 "nbformat": 4,
 "nbformat_minor": 5
}
