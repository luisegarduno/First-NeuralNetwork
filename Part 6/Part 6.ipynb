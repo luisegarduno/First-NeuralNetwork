{
 "cells": [
  {
   "metadata": {},
   "cell_type": "markdown",
   "source": "# Softmax Activation ",
   "id": "68c4c8d3caa63d2e"
  },
  {
   "metadata": {
    "ExecuteTime": {
     "end_time": "2024-10-12T09:25:15.051670Z",
     "start_time": "2024-10-12T09:25:15.045609Z"
    }
   },
   "cell_type": "code",
   "source": [
    "import numpy as np\n",
    "\n",
    "class Layer_Dense:\n",
    "    def __init__(self, n_inputs, n_neurons):\n",
    "        # We want numpy to create a weights that will be the size of\n",
    "        # number of inputs times the number of neurons we want\n",
    "\n",
    "        # The parameters of randn is the shape,\n",
    "        # in this case, randn(number of columns, number of rows)\n",
    "        self.weights = 0.10 * np.random.randn(n_inputs, n_neurons)\n",
    "\n",
    "        # first parameter in np.zeros is the shape\n",
    "        # Remember, each neuron has a unique bias, so that is how many\n",
    "        # biases we will initially generate\n",
    "        self.biases = np.zeros((1, n_neurons))\n",
    "        # what randn does is just a Gaussian Distribution around 0\n",
    "\n",
    "    def forward(self, inputs):\n",
    "        self.output = np.dot(inputs, self.weights) + self.biases\n",
    "\n",
    "class Activation_ReLU:\n",
    "    def forward(self, inputs):\n",
    "        self.output = np.maximum(0, inputs)\n",
    "\n",
    "class Activation_Softmax:\n",
    "    def forward(self, inputs):\n",
    "        exp_values = np.exp(inputs - np.max(inputs, axis=1, keepdims=True))\n",
    "        probabilities = exp_values / np.sum(exp_values, axis=1, keepdims=True)\n",
    "        self.output = probabilities"
   ],
   "id": "9986316036923f33",
   "outputs": [],
   "execution_count": 12
  },
  {
   "metadata": {
    "ExecuteTime": {
     "end_time": "2024-10-12T09:35:12.500899Z",
     "start_time": "2024-10-12T09:35:12.493370Z"
    }
   },
   "cell_type": "code",
   "source": [
    "import nnfs\n",
    "from nnfs.datasets import spiral_data\n",
    "\n",
    "nnfs.init()\n",
    "\n",
    "# Create input/output data\n",
    "X, y = spiral_data(samples=100, classes=3)\n",
    "\n",
    "# Initialize - Layer 1:\n",
    "#       2 inputs & 3 output neurons\n",
    "dense1 = Layer_Dense(2,3)\n",
    "activation1 = Activation_ReLU()\n",
    "\n",
    "# Initialize - Layer 2:\n",
    "#       3 inputs & 3 output neurons\n",
    "dense2 = Layer_Dense(3, 3)\n",
    "activation2 = Activation_Softmax()\n",
    "\n",
    "# Feed inputs into Layer 1\n",
    "dense1.forward(X)\n",
    "activation1.forward(dense1.output)\n",
    "\n",
    "# Feed Layer 1 outputs to Layer 2\n",
    "dense2.forward(activation1.output)\n",
    "activation2.forward(dense2.output)\n",
    "\n",
    "print(activation2.output[:5])\n",
    "print(activation2.output.shape)"
   ],
   "id": "3832094e9285b93d",
   "outputs": [
    {
     "name": "stdout",
     "output_type": "stream",
     "text": [
      "[[0.33333334 0.33333334 0.33333334]\n",
      " [0.33331734 0.3333183  0.33336434]\n",
      " [0.3332888  0.33329153 0.33341965]\n",
      " [0.33325943 0.33326396 0.33347666]\n",
      " [0.33323312 0.33323926 0.33352762]]\n",
      "(300, 3)\n"
     ]
    }
   ],
   "execution_count": 15
  },
  {
   "metadata": {},
   "cell_type": "code",
   "outputs": [],
   "execution_count": null,
   "source": "",
   "id": "955022085bc28d7b"
  }
 ],
 "metadata": {
  "kernelspec": {
   "display_name": "Python 3",
   "language": "python",
   "name": "python3"
  },
  "language_info": {
   "codemirror_mode": {
    "name": "ipython",
    "version": 2
   },
   "file_extension": ".py",
   "mimetype": "text/x-python",
   "name": "python",
   "nbconvert_exporter": "python",
   "pygments_lexer": "ipython2",
   "version": "2.7.6"
  }
 },
 "nbformat": 4,
 "nbformat_minor": 5
}
