{
 "cells": [
  {
   "metadata": {},
   "cell_type": "markdown",
   "source": [
    "### Softmax Activation\n",
    "\n",
    "$ S_{i,j} = \\frac{e^{z_{i,j}}}{\\sum_{l=1}^L e^{z_{i,l}}}$"
   ],
   "id": "1156f6d04492081"
  },
  {
   "cell_type": "code",
   "id": "initial_id",
   "metadata": {
    "collapsed": true,
    "ExecuteTime": {
     "end_time": "2024-10-12T07:33:07.355158Z",
     "start_time": "2024-10-12T07:33:07.348280Z"
    }
   },
   "source": [
    "import math\n",
    "\n",
    "layer_outputs = [4.8, 1.21, 2.385]\n",
    "\n",
    "# Euler's number = E = 2.7182818\n",
    "E = math.e\n",
    "\n",
    "exp_values = []\n",
    "\n",
    "for output in layer_outputs:\n",
    "    # E^output\n",
    "    exp_values.append(E**output)\n",
    "    \n",
    "print(exp_values)"
   ],
   "outputs": [
    {
     "name": "stdout",
     "output_type": "stream",
     "text": [
      "[121.51041751873483, 3.353484652549023, 10.859062664920513]\n"
     ]
    }
   ],
   "execution_count": 1
  },
  {
   "metadata": {},
   "cell_type": "markdown",
   "source": [
    "### Normalize the values\n",
    "\n",
    "Normalization:\n",
    "\n",
    "$ y = \\frac{u}{\\sum_{x_{i}}^n u_{i}}$\n",
    "\n",
    "<br>\n",
    "\n",
    "\n",
    "\n",
    "\n",
    "$u = [{u_1} \\\\ $\n",
    "${u_2}] $\n",
    "* $u_{1} = 1$\n",
    "* $u_{2} = 2$\n",
    "\n",
    "<br>\n",
    "\n",
    "$y = [\\frac{u_1}{u_{1}+u_{2}} \\\\$\n",
    "$ \\frac{u_2}{u_{1}+u_{2}}]$\n",
    "\n",
    "$ y = [\\frac{1}{1+2} \\\\$\n",
    "$ \\frac{2}{1+2}]$\n",
    "\n",
    "$ y = [\\frac{1}{3} \\\\$\n",
    "$ \\frac{2}{3}]$\n",
    "\n",
    "$ y = [0.33 \\\\$\n",
    "$ 0.67]$"
   ],
   "id": "24711f25fd03b4d6"
  },
  {
   "metadata": {},
   "cell_type": "code",
   "outputs": [],
   "execution_count": null,
   "source": "",
   "id": "3178aaff11831c0e"
  }
 ],
 "metadata": {
  "kernelspec": {
   "display_name": "Python 3",
   "language": "python",
   "name": "python3"
  },
  "language_info": {
   "codemirror_mode": {
    "name": "ipython",
    "version": 2
   },
   "file_extension": ".py",
   "mimetype": "text/x-python",
   "name": "python",
   "nbconvert_exporter": "python",
   "pygments_lexer": "ipython2",
   "version": "2.7.6"
  }
 },
 "nbformat": 4,
 "nbformat_minor": 5
}
