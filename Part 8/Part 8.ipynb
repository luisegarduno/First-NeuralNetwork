{
 "cells": [
  {
   "metadata": {},
   "cell_type": "markdown",
   "source": "# Adding Loss Function",
   "id": "d708bbd517bdeccc"
  },
  {
   "metadata": {},
   "cell_type": "code",
   "outputs": [],
   "execution_count": null,
   "source": [
    "import numpy as np\n",
    "\n",
    "class Layer_Dense:\n",
    "    def __init__(self, n_inputs, n_neurons):\n",
    "        # We want numpy to create a weights that will be the size of\n",
    "        # number of inputs times the number of neurons we want\n",
    "\n",
    "        # The parameters of randn is the shape,\n",
    "        # in this case, randn(number of columns, number of rows)\n",
    "        self.weights = 0.10 * np.random.randn(n_inputs, n_neurons)\n",
    "\n",
    "        # first parameter in np.zeros is the shape\n",
    "        # Remember, each neuron has a unique bias, so that is how many\n",
    "        # biases we will initially generate\n",
    "        self.biases = np.zeros((1, n_neurons))\n",
    "        # what randn does is just a Gaussian Distribution around 0\n",
    "\n",
    "    def forward(self, inputs):\n",
    "        self.output = np.dot(inputs, self.weights) + self.biases\n",
    "\n",
    "class Activation_ReLU:\n",
    "    def forward(self, inputs):\n",
    "        self.output = np.maximum(0, inputs)\n",
    "\n",
    "class Activation_Softmax:\n",
    "    def forward(self, inputs):\n",
    "        exp_values = np.exp(inputs - np.max(inputs, axis=1, keepdims=True))\n",
    "        probabilities = exp_values / np.sum(exp_values, axis=1, keepdims=True)\n",
    "        self.output = probabilities"
   ],
   "id": "b18b28ebad7630dd"
  },
  {
   "metadata": {},
   "cell_type": "code",
   "outputs": [],
   "execution_count": null,
   "source": [
    "import nnfs\n",
    "from nnfs.datasets import spiral_data\n",
    "\n",
    "nnfs.init()\n",
    "\n",
    "# Create input/output data\n",
    "X, y = spiral_data(samples=100, classes=3)"
   ],
   "id": "c13b574c3e564895"
  }
 ],
 "metadata": {
  "kernelspec": {
   "display_name": "Python 3",
   "language": "python",
   "name": "python3"
  },
  "language_info": {
   "codemirror_mode": {
    "name": "ipython",
    "version": 2
   },
   "file_extension": ".py",
   "mimetype": "text/x-python",
   "name": "python",
   "nbconvert_exporter": "python",
   "pygments_lexer": "ipython2",
   "version": "2.7.6"
  }
 },
 "nbformat": 4,
 "nbformat_minor": 5
}
