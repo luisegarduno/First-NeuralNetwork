{
 "cells": [
  {
   "metadata": {},
   "cell_type": "markdown",
   "source": "# Adding Loss Function",
   "id": "d708bbd517bdeccc"
  },
  {
   "metadata": {
    "ExecuteTime": {
     "end_time": "2024-11-03T13:40:43.135804Z",
     "start_time": "2024-11-03T13:40:43.127794Z"
    }
   },
   "cell_type": "code",
   "source": [
    "import numpy as np\n",
    "\n",
    "class Layer_Dense:\n",
    "    def __init__(self, n_inputs, n_neurons):\n",
    "        # We want numpy to create a weights that will be the size of\n",
    "        # number of inputs times the number of neurons we want\n",
    "\n",
    "        # The parameters of randn is the shape,\n",
    "        # in this case, randn(number of columns, number of rows)\n",
    "        self.weights = 0.10 * np.random.randn(n_inputs, n_neurons)\n",
    "\n",
    "        # first parameter in np.zeros is the shape\n",
    "        # Remember, each neuron has a unique bias, so that is how many\n",
    "        # biases we will initially generate\n",
    "        self.biases = np.zeros((1, n_neurons))\n",
    "        # what randn does is just a Gaussian Distribution around 0\n",
    "\n",
    "    def forward(self, inputs):\n",
    "        self.output = np.dot(inputs, self.weights) + self.biases\n",
    "\n",
    "class Activation_ReLU:\n",
    "    def forward(self, inputs):\n",
    "        self.output = np.maximum(0, inputs)\n",
    "\n",
    "class Activation_Softmax:\n",
    "    def forward(self, inputs):\n",
    "        exp_values = np.exp(inputs - np.max(inputs, axis=1, keepdims=True))\n",
    "        probabilities = exp_values / np.sum(exp_values, axis=1, keepdims=True)\n",
    "        self.output = probabilities\n",
    "        \n",
    "class Loss:\n",
    "    def calculate(self, output, y):\n",
    "        \"\"\"\n",
    "        \n",
    "        :param output: Output from the model\n",
    "        :param y: Intended target values\n",
    "        :return: data loss\n",
    "        \"\"\"\n",
    "        sample_losses = self.forward(output, y)\n",
    "        data_loss = np.mean(sample_losses)\n",
    "        return data_loss\n",
    "    \n",
    "class Loss_CategoricalCrossEntropy(Loss):\n",
    "    def forward(self, y_pred, y_true):\n",
    "        \"\"\"\n",
    "        \n",
    "        :param y_pred: Values from the NN\n",
    "        :param y_true: Target training values\n",
    "        :return: \n",
    "        \"\"\"\n",
    "        samples = len(y_pred)\n",
    "        \n",
    "        # Values must be between:\n",
    "        # ---- Start: 16.11809565095832\n",
    "        # ---- End : 1.0000000494736474e-07\n",
    "        y_pred_clipped = np.clip(y_pred, 1e-7, 1-1e-7)\n",
    "        \n",
    "        # Add functionality to handle 'Scalar' or 'One Hot Encoded' values\n",
    "        # - Scalar [  1,     0]\n",
    "        # - OneHot [[0,1], [1,0]]\n",
    "        \n",
    "        # 1 - Dimension (Scalar)\n",
    "        if len(y_true.shape) == 1:\n",
    "            # y_pred_clipped[y_pred_clipped[0,1,2], [0, 1, 1]]\n",
    "            correct_confidences = y_pred_clipped[range(samples), y_true]\n",
    "            \n",
    "        # 2 - Dimension (One Hot Encoded)\n",
    "        elif len(y_true.shape) == 2:\n",
    "            # 1. Multiply each vector\n",
    "            #       Example: a[0.7, 0.1, 0.2] * b[1, 0, 0] = [[0.7 * 1, 0.1 * 0, ...]]\n",
    "            # 2. Do sum along AXIS ONE (row)\n",
    "            #       Example: [[0.7, 0.0, 0.0],....] = [[0.7+0.0+0.0],....]\n",
    "            correct_confidences = np.sum(y_pred_clipped * y_true, axis=1)\n",
    "            \n",
    "        negative_log_likelihoods = -np.log(correct_confidences)\n",
    "        return negative_log_likelihoods"
   ],
   "id": "b18b28ebad7630dd",
   "outputs": [],
   "execution_count": 30
  },
  {
   "metadata": {
    "ExecuteTime": {
     "end_time": "2024-11-03T13:40:44.371078Z",
     "start_time": "2024-11-03T13:40:44.367375Z"
    }
   },
   "cell_type": "code",
   "source": [
    "import nnfs\n",
    "from nnfs.datasets import spiral_data\n",
    "\n",
    "nnfs.init()\n",
    "\n",
    "# Create input/output data\n",
    "X, y = spiral_data(samples=100, classes=3)"
   ],
   "id": "c13b574c3e564895",
   "outputs": [],
   "execution_count": 31
  },
  {
   "metadata": {
    "ExecuteTime": {
     "end_time": "2024-11-03T13:40:45.321417Z",
     "start_time": "2024-11-03T13:40:45.317258Z"
    }
   },
   "cell_type": "code",
   "source": [
    "# (Dense) Layer - 1\n",
    "dense1 = Layer_Dense(n_inputs=2, n_neurons=3)\n",
    "activation1 = Activation_ReLU()\n",
    "\n",
    "# (Dense) Layer - 2\n",
    "dense2 = Layer_Dense(n_inputs=3, n_neurons=3)\n",
    "activation2 = Activation_Softmax()"
   ],
   "id": "6e590ba177e0ff41",
   "outputs": [],
   "execution_count": 32
  },
  {
   "metadata": {
    "ExecuteTime": {
     "end_time": "2024-11-03T13:40:47.005120Z",
     "start_time": "2024-11-03T13:40:47.000728Z"
    }
   },
   "cell_type": "code",
   "source": [
    "dense1.forward(X)\n",
    "activation1.forward(dense1.output)\n",
    "\n",
    "dense2.forward(activation1.output)\n",
    "activation2.forward(dense2.output)\n",
    "\n",
    "print(activation2.output[:5])"
   ],
   "id": "8d7029747af624c6",
   "outputs": [
    {
     "name": "stdout",
     "output_type": "stream",
     "text": [
      "[[0.33333334 0.33333334 0.33333334]\n",
      " [0.33331734 0.3333183  0.33336434]\n",
      " [0.3332888  0.33329153 0.33341965]\n",
      " [0.33325943 0.33326396 0.33347666]\n",
      " [0.33323312 0.33323926 0.33352762]]\n"
     ]
    }
   ],
   "execution_count": 33
  },
  {
   "metadata": {
    "ExecuteTime": {
     "end_time": "2024-11-03T13:40:48.293414Z",
     "start_time": "2024-11-03T13:40:48.289412Z"
    }
   },
   "cell_type": "code",
   "source": [
    "loss_function = Loss_CategoricalCrossEntropy()\n",
    "\n",
    "loss = loss_function.calculate(activation2.output, y)\n",
    "print(\"Loss: \", loss)"
   ],
   "id": "420a5102117b9ec1",
   "outputs": [
    {
     "name": "stdout",
     "output_type": "stream",
     "text": [
      "Loss:  1.098445\n"
     ]
    }
   ],
   "execution_count": 34
  },
  {
   "metadata": {},
   "cell_type": "code",
   "outputs": [],
   "execution_count": null,
   "source": "",
   "id": "970338655df96f43"
  }
 ],
 "metadata": {
  "kernelspec": {
   "display_name": "Python 3",
   "language": "python",
   "name": "python3"
  },
  "language_info": {
   "codemirror_mode": {
    "name": "ipython",
    "version": 2
   },
   "file_extension": ".py",
   "mimetype": "text/x-python",
   "name": "python",
   "nbconvert_exporter": "python",
   "pygments_lexer": "ipython2",
   "version": "2.7.6"
  }
 },
 "nbformat": 4,
 "nbformat_minor": 5
}
