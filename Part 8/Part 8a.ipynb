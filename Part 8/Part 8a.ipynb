{
 "cells": [
  {
   "metadata": {},
   "cell_type": "markdown",
   "source": "# Demo",
   "id": "8ab4939fa2467c7f"
  },
  {
   "metadata": {
    "ExecuteTime": {
     "end_time": "2024-10-26T12:41:59.879369Z",
     "start_time": "2024-10-26T12:41:59.829635Z"
    }
   },
   "cell_type": "code",
   "source": [
    "import numpy as np\n",
    "\n",
    "softmax_outputs = np.array([[0.7, 0.1, 0.2],\n",
    "                            [0.1, 0.5, 0.4],\n",
    "                            [0.02, 0.9, 0.08]])\n",
    "\n",
    "# 0-dog | 1-cat | 2-human\n",
    "# --> [dog, cat, cat]\n",
    "class_targets = [0, 1, 1]\n",
    "\n",
    "# So then we need something like the following:\n",
    "# softmax_outputs[0.7, 0.1, 0.2] --------> class_targets[0] = 0 ---> 0.7\n",
    "# softmax_outputs[0.1, 0.5, 0.4] --------> class_targets[1] = 1 ---> 0.5\n",
    "# softmax_outputs[0.02, 0.9, 0.08] ------> class_targets[2] = 1 ---> 0.9\n",
    "\n",
    "\n",
    "\n",
    "\n",
    "# -------------------\n",
    "# Step 1 ------------\n",
    "# -------------------\n",
    "\n",
    "# softmax_outputs[ [0.7, 0.1, 0.2], [0.1, 0.5, 0.4],  [0.02, 0.9, 0.08] ]\n",
    "\n",
    "# can be simplified like:\n",
    "# softmax_outputs[       0        ,        1       ,           2         ]\n",
    "#   ------> softmax_outputs[0,1,2]\n",
    "\n",
    "\n",
    "# -------------------\n",
    "# Step 2 ------------\n",
    "# -------------------\n",
    "\n",
    "# Then for the class targets, we just need the values within the array\n",
    "# class_targets[0], class_targets[1], class_targets[2]\n",
    "\n",
    "# easily turns into:\n",
    "# class_targets       <-------- Remember, class_targets = [0,1,1]\n",
    "\n",
    "\n",
    "# -------------------\n",
    "# Step 3 ------------\n",
    "# -------------------\n",
    "\n",
    "# Finally we can simply use the following to \"zip\" it together\n",
    "print( softmax_outputs[   [0, 1, 2],     class_targets ])"
   ],
   "id": "e2f8738c7fa96a32",
   "outputs": [
    {
     "name": "stdout",
     "output_type": "stream",
     "text": [
      "[0.7 0.5 0.9]\n"
     ]
    }
   ],
   "execution_count": 1
  },
  {
   "metadata": {
    "ExecuteTime": {
     "end_time": "2024-10-26T12:50:49.501420Z",
     "start_time": "2024-10-26T12:50:49.497254Z"
    }
   },
   "cell_type": "code",
   "source": [
    "# However, we can simplify it further\n",
    "\n",
    "# Instead of specifying the softmax_outputs \"[0, 1, 2]\"\n",
    "# We can just check the array size by using len\n",
    "print(\"Length:\", len(softmax_outputs))\n",
    "\n",
    "\n",
    "\n",
    "# The length is 3, so we can just the \"range\" feature to count from 0-3\n",
    "\n",
    "# RECALL: ----> range(start, stop, step)\n",
    "# - start (optional): where to start (DEFAULT IS 0)\n",
    "# - stop (REQUIRED): where to stop (not included)\n",
    "# - step (optional): increment value\n",
    "\n",
    "# Thus, range(3) will return: 0, 1, 2\n",
    "\n",
    "\n",
    "print(range( len(softmax_outputs) ))"
   ],
   "id": "4ede71a1205a4a5c",
   "outputs": [
    {
     "name": "stdout",
     "output_type": "stream",
     "text": [
      "Length: 3\n",
      "Range: range(0, 3)\n"
     ]
    }
   ],
   "execution_count": 3
  },
  {
   "metadata": {
    "ExecuteTime": {
     "end_time": "2024-10-26T12:52:51.563136Z",
     "start_time": "2024-10-26T12:52:51.560279Z"
    }
   },
   "cell_type": "code",
   "source": [
    "\n",
    "# aka\n",
    "# ----> softmax_outputs[ range(0,3), [0,1,1]\n",
    "print( softmax_outputs[ range(len(softmax_outputs)), class_targets])"
   ],
   "id": "faeecb1f280a2b0f",
   "outputs": [
    {
     "name": "stdout",
     "output_type": "stream",
     "text": [
      "[0.7 0.5 0.9]\n"
     ]
    }
   ],
   "execution_count": 5
  },
  {
   "metadata": {
    "ExecuteTime": {
     "end_time": "2024-10-26T12:54:41.922146Z",
     "start_time": "2024-10-26T12:54:41.917948Z"
    }
   },
   "cell_type": "code",
   "source": [
    "# Finally, to calculate the losses, just wrap what\n",
    "# we wrote above, with a negative log (LOOK AT FORMULA FROM part 7)\n",
    "\n",
    "print(-np.log(\n",
    "    softmax_outputs[\n",
    "        range(len(softmax_outputs)),\n",
    "        class_targets\n",
    "    ]\n",
    "))"
   ],
   "id": "d03e9f30b50bf297",
   "outputs": [
    {
     "name": "stdout",
     "output_type": "stream",
     "text": [
      "[0.35667494 0.69314718 0.10536052]\n"
     ]
    }
   ],
   "execution_count": 7
  },
  {
   "metadata": {
    "ExecuteTime": {
     "end_time": "2024-10-26T12:56:31.505560Z",
     "start_time": "2024-10-26T12:56:31.502645Z"
    }
   },
   "cell_type": "code",
   "source": [
    "# Cleaned up\n",
    "\n",
    "neg_log = -np.log(softmax_outputs[range(len(softmax_outputs)), class_targets])\n",
    "\n",
    "# Then calculate our average loss\n",
    "average_loss = np.mean(neg_log)\n",
    "print(average_loss)"
   ],
   "id": "214c443466da4e93",
   "outputs": [
    {
     "name": "stdout",
     "output_type": "stream",
     "text": [
      "0.38506088005216804\n"
     ]
    }
   ],
   "execution_count": 8
  },
  {
   "metadata": {},
   "cell_type": "code",
   "outputs": [],
   "execution_count": null,
   "source": "",
   "id": "119c201da720aa30"
  }
 ],
 "metadata": {
  "kernelspec": {
   "display_name": "Python 3",
   "language": "python",
   "name": "python3"
  },
  "language_info": {
   "codemirror_mode": {
    "name": "ipython",
    "version": 2
   },
   "file_extension": ".py",
   "mimetype": "text/x-python",
   "name": "python",
   "nbconvert_exporter": "python",
   "pygments_lexer": "ipython2",
   "version": "2.7.6"
  }
 },
 "nbformat": 4,
 "nbformat_minor": 5
}
