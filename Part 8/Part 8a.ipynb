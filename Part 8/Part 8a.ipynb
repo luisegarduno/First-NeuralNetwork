{
 "cells": [
  {
   "metadata": {},
   "cell_type": "markdown",
   "source": "# Demo",
   "id": "8ab4939fa2467c7f"
  },
  {
   "metadata": {
    "ExecuteTime": {
     "end_time": "2024-11-03T13:54:20.065165Z",
     "start_time": "2024-11-03T13:54:20.059836Z"
    }
   },
   "cell_type": "code",
   "source": [
    "import numpy as np\n",
    "\n",
    "softmax_outputs = np.array([[0.7, 0.1, 0.2],\n",
    "                            [0.1, 0.5, 0.4],\n",
    "                            [0.02, 0.9, 0.08]])\n",
    "\n",
    "# 0-dog | 1-cat | 2-human\n",
    "# --> [dog, cat, cat]\n",
    "class_targets = [0, 1, 1]\n",
    "\n",
    "# So then we need something like the following:\n",
    "# softmax_outputs[0.7, 0.1, 0.2] --------> class_targets[0] = 0 ---> 0.7\n",
    "# softmax_outputs[0.1, 0.5, 0.4] --------> class_targets[1] = 1 ---> 0.5\n",
    "# softmax_outputs[0.02, 0.9, 0.08] ------> class_targets[2] = 1 ---> 0.9\n",
    "\n",
    "# -------------------------------------------\n",
    "# REMINDER:\n",
    "\n",
    "# | 0-dog (idx[0]) | 1-cat (idx[1]) | 2-human (idx[2]) |\n",
    "# | -------------- | -------------- | ---------------- |\n",
    "# |   0.7% (DOG)   |   0.1% (CAT)   |    0.2% (HUMAN)  |   \n",
    "\n",
    "\n",
    "# softmax_outputs[0.7, 0.1, 0.2] \n",
    "# --> [index 0] 0.7% confident output = DOG\n",
    "# --> [index 1] 0.1% confident output = CAT\n",
    "# --> [index 2] 0.2% confident output = HUMAN\n",
    "\n",
    "# --------> class_targets[0] = 0\n",
    "# The correct output for sample 1 (class_targets[0]) was: 0 (DOG) \n",
    "\n",
    "# We can then look at the sample and see that the\n",
    "# confidence level that the output was a DOG was 0.7\n",
    "# --------------------------------------------\n",
    "\n",
    "\n",
    "\n",
    "\n",
    "\n",
    "# -------------------\n",
    "# Step 1 ------------\n",
    "# -------------------\n",
    "\n",
    "# softmax_outputs[ [0.7, 0.1, 0.2], [0.1, 0.5, 0.4],  [0.02, 0.9, 0.08] ]\n",
    "\n",
    "# can be simplified like:\n",
    "# softmax_outputs[       0        ,        1       ,           2         ]\n",
    "#   ------> softmax_outputs[0,1,2]\n",
    "\n",
    "\n",
    "# -------------------\n",
    "# Step 2 ------------\n",
    "# -------------------\n",
    "\n",
    "# Then for the class targets, we just need the values within the array\n",
    "# class_targets[0], class_targets[1], class_targets[2]\n",
    "\n",
    "# easily turns into:\n",
    "# class_targets       <-------- Remember, class_targets = [0,1,1]\n",
    "\n",
    "\n",
    "# -------------------\n",
    "# Step 3 ------------\n",
    "# -------------------\n",
    "\n",
    "# Finally we can simply use the following to \"zip\" it together\n",
    "print( softmax_outputs[   [0, 1, 2],     class_targets ])"
   ],
   "id": "e2f8738c7fa96a32",
   "outputs": [
    {
     "name": "stdout",
     "output_type": "stream",
     "text": [
      "[0.7 0.5 0.9]\n"
     ]
    }
   ],
   "execution_count": 11
  },
  {
   "metadata": {
    "ExecuteTime": {
     "end_time": "2024-11-03T13:54:23.333711Z",
     "start_time": "2024-11-03T13:54:23.329748Z"
    }
   },
   "cell_type": "code",
   "source": [
    "# However, we can simplify it further\n",
    "\n",
    "# Instead of specifying the softmax_outputs \"[0, 1, 2]\"\n",
    "# We can just check the array size by using len\n",
    "print(\"Length:\", len(softmax_outputs))\n",
    "\n",
    "\n",
    "\n",
    "# The length is 3, so we can just the \"range\" feature to count from 0-3\n",
    "\n",
    "# RECALL: ----> range(start, stop, step)\n",
    "# - start (optional): where to start (DEFAULT IS 0)\n",
    "# - stop (REQUIRED): where to stop (not included)\n",
    "# - step (optional): increment value\n",
    "\n",
    "# Thus, range(3) will return: 0, 1, 2\n",
    "\n",
    "\n",
    "print(range( len(softmax_outputs) ))"
   ],
   "id": "4ede71a1205a4a5c",
   "outputs": [
    {
     "name": "stdout",
     "output_type": "stream",
     "text": [
      "Length: 3\n",
      "range(0, 3)\n"
     ]
    }
   ],
   "execution_count": 12
  },
  {
   "metadata": {
    "ExecuteTime": {
     "end_time": "2024-11-03T13:54:25.400366Z",
     "start_time": "2024-11-03T13:54:25.396462Z"
    }
   },
   "cell_type": "code",
   "source": [
    "\n",
    "# aka\n",
    "# ----> softmax_outputs[ range(0,3), [0,1,1]\n",
    "# target classes confidence\n",
    "print( softmax_outputs[ range(len(softmax_outputs)), class_targets])"
   ],
   "id": "faeecb1f280a2b0f",
   "outputs": [
    {
     "name": "stdout",
     "output_type": "stream",
     "text": [
      "[0.7 0.5 0.9]\n"
     ]
    }
   ],
   "execution_count": 13
  },
  {
   "metadata": {
    "ExecuteTime": {
     "end_time": "2024-11-03T13:54:27.430648Z",
     "start_time": "2024-11-03T13:54:27.427815Z"
    }
   },
   "cell_type": "code",
   "source": [
    "# Finally, to calculate the losses, just wrap what\n",
    "# we wrote above, with a negative log (LOOK AT FORMULA FROM part 7)\n",
    "\n",
    "# Output losses\n",
    "print(-np.log(\n",
    "    softmax_outputs[\n",
    "        range(len(softmax_outputs)),\n",
    "        class_targets\n",
    "    ]\n",
    "))"
   ],
   "id": "d03e9f30b50bf297",
   "outputs": [
    {
     "name": "stdout",
     "output_type": "stream",
     "text": [
      "[0.35667494 0.69314718 0.10536052]\n"
     ]
    }
   ],
   "execution_count": 14
  },
  {
   "metadata": {
    "ExecuteTime": {
     "end_time": "2024-11-03T13:54:30.468966Z",
     "start_time": "2024-11-03T13:54:30.465338Z"
    }
   },
   "cell_type": "code",
   "source": [
    "# Cleaned up - Calculate loss for this batch\n",
    "#              as the mean of the losses\n",
    "\n",
    "neg_log = -np.log(softmax_outputs[range(len(softmax_outputs)), class_targets])\n",
    "\n",
    "# Then calculate our average loss\n",
    "average_loss = np.mean(neg_log)\n",
    "print(average_loss)"
   ],
   "id": "214c443466da4e93",
   "outputs": [
    {
     "name": "stdout",
     "output_type": "stream",
     "text": [
      "0.38506088005216804\n"
     ]
    }
   ],
   "execution_count": 15
  },
  {
   "metadata": {},
   "cell_type": "markdown",
   "source": [
    "-------------------------\n",
    "\n",
    "Continued in `Part 8b` notebook"
   ],
   "id": "52e487ad5bfad9dd"
  },
  {
   "metadata": {
    "ExecuteTime": {
     "end_time": "2024-11-03T14:10:32.468539Z",
     "start_time": "2024-11-03T14:10:32.464457Z"
    }
   },
   "cell_type": "code",
   "source": [
    "class Accuracy:\n",
    "    def calculate(self, output, y_true):\n",
    "        predictions = np.argmax(output, axis=1)\n",
    "\n",
    "        if len(y_true.shape) == 2:\n",
    "            y_true = np.argmax(y_true, axis=1)\n",
    "\n",
    "        accuracy = np.mean(predictions == y_true)\n",
    "        self.output = accuracy"
   ],
   "id": "45ddb117d912f1ad",
   "outputs": [],
   "execution_count": 20
  },
  {
   "metadata": {
    "ExecuteTime": {
     "end_time": "2024-11-03T14:10:33.289066Z",
     "start_time": "2024-11-03T14:10:33.285791Z"
    }
   },
   "cell_type": "code",
   "source": [
    "softmax_outputs = np.array([[0.7, 0.2, 0.1],\n",
    "                            [0.5, 0.1, 0.4],\n",
    "                            [0.02, 0.9, 0.08]])\n",
    "\n",
    "class_targets = np.array([0, 1, 1])"
   ],
   "id": "b4541e51ad7f1986",
   "outputs": [],
   "execution_count": 21
  },
  {
   "metadata": {
    "ExecuteTime": {
     "end_time": "2024-11-03T14:10:35.920501Z",
     "start_time": "2024-11-03T14:10:35.916383Z"
    }
   },
   "cell_type": "code",
   "source": [
    "accuracy = Accuracy()\n",
    "accuracy.calculate(softmax_outputs, class_targets)\n",
    "print(\"Accuracy:\", accuracy.output)"
   ],
   "id": "abc2ae845038f890",
   "outputs": [
    {
     "name": "stdout",
     "output_type": "stream",
     "text": [
      "Accuracy: 0.6666666666666666\n"
     ]
    }
   ],
   "execution_count": 22
  },
  {
   "metadata": {},
   "cell_type": "code",
   "outputs": [],
   "execution_count": null,
   "source": "",
   "id": "c1cb2bc588d3422"
  }
 ],
 "metadata": {
  "kernelspec": {
   "display_name": "Python 3",
   "language": "python",
   "name": "python3"
  },
  "language_info": {
   "codemirror_mode": {
    "name": "ipython",
    "version": 2
   },
   "file_extension": ".py",
   "mimetype": "text/x-python",
   "name": "python",
   "nbconvert_exporter": "python",
   "pygments_lexer": "ipython2",
   "version": "2.7.6"
  }
 },
 "nbformat": 4,
 "nbformat_minor": 5
}
